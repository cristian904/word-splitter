{
 "cells": [
  {
   "cell_type": "code",
   "execution_count": 7,
   "metadata": {},
   "outputs": [],
   "source": [
    "from train import WordSplitter\n",
    "import io"
   ]
  },
  {
   "cell_type": "code",
   "execution_count": 8,
   "metadata": {},
   "outputs": [],
   "source": [
    "input_texts_train = []\n",
    "target_texts_train = []\n",
    "target_words_train = []\n",
    "\n",
    "with io.open(\"train_set.txt\", \"r\", encoding=\"utf-8\") as f:\n",
    "    samples = f.readlines()\n",
    "    for sample in samples:\n",
    "        target_word, input_text, target_text = sample.split(\" \")\n",
    "        target_text = '\\t' + target_text + '\\n'\n",
    "        input_texts_train.append(input_text)\n",
    "        target_texts_train.append(target_text)\n",
    "        target_words_train.append(target_word)\n",
    "\n",
    "\n",
    "input_texts_test = []\n",
    "target_texts_test = []\n",
    "target_words_test = []\n",
    "\n",
    "with io.open(\"train_set.txt\", \"r\", encoding=\"utf-8\") as f:\n",
    "    samples = f.readlines()\n",
    "    for sample in samples:\n",
    "        target_word, input_text, target_text = sample.split(\" \")\n",
    "        target_text = '\\t' + target_text + '\\n'\n",
    "        input_texts_test.append(input_text)\n",
    "        target_texts_test.append(target_text)\n",
    "        target_words_test.append(target_word)"
   ]
  },
  {
   "cell_type": "code",
   "execution_count": null,
   "metadata": {},
   "outputs": [],
   "source": [
    "\n",
    "word_splitter = WordSplitter(input_texts_train, target_texts_train, target_words_train, input_texts_test, target_texts_test, target_words_test)\n",
    "word_splitter.prepare_data()\n",
    "# word_splitter.train()\n",
    "word_splitter.predict_on_test()"
   ]
  }
 ],
 "metadata": {
  "kernelspec": {
   "display_name": "Python 3",
   "language": "python",
   "name": "python3"
  },
  "language_info": {
   "codemirror_mode": {
    "name": "ipython",
    "version": 3
   },
   "file_extension": ".py",
   "mimetype": "text/x-python",
   "name": "python",
   "nbconvert_exporter": "python",
   "pygments_lexer": "ipython3",
   "version": "3.7.4"
  }
 },
 "nbformat": 4,
 "nbformat_minor": 2
}
