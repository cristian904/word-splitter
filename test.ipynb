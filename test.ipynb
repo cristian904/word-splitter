{
 "cells": [
  {
   "cell_type": "code",
   "execution_count": 18,
   "metadata": {},
   "outputs": [],
   "source": [
    "from train import WordSplitter\n",
    "import io"
   ]
  },
  {
   "cell_type": "code",
   "execution_count": 22,
   "metadata": {},
   "outputs": [],
   "source": [
    "input_texts_train = []\n",
    "target_texts_train = []\n",
    "target_words_train = []\n",
    "\n",
    "with io.open(\"train_set.txt\", \"r\", encoding=\"utf-8\") as f:\n",
    "    samples = f.readlines()\n",
    "    for sample in samples:\n",
    "        target_word, input_text, target_text = sample.split(\" \")\n",
    "        target_text = '\\t' + target_text + '\\n'\n",
    "        input_texts_train.append(input_text)\n",
    "        target_texts_train.append(target_text)\n",
    "        target_words_train.append(target_word)\n",
    "\n",
    "\n",
    "input_texts_test = []\n",
    "target_texts_test = []\n",
    "target_words_test = []\n",
    "\n",
    "with io.open(\"train_set.txt\", \"r\", encoding=\"utf-8\") as f:\n",
    "    samples = f.readlines()\n",
    "    for sample in samples:\n",
    "        target_word, input_text, target_text = sample.split(\" \")\n",
    "        target_text = '\\t' + target_text + '\\n'\n",
    "        input_texts_test.append(input_text)\n",
    "        target_texts_test.append(target_text)\n",
    "        target_words_test.append(target_word)"
   ]
  },
  {
   "cell_type": "code",
   "execution_count": 23,
   "metadata": {},
   "outputs": [
    {
     "ename": "AttributeError",
     "evalue": "'WordSplitter' object has no attribute 'encoder_input_data_test'",
     "output_type": "error",
     "traceback": [
      "\u001b[0;31m---------------------------------------------------------------------------\u001b[0m",
      "\u001b[0;31mAttributeError\u001b[0m                            Traceback (most recent call last)",
      "\u001b[0;32m<ipython-input-23-b0fe1a319264>\u001b[0m in \u001b[0;36m<module>\u001b[0;34m\u001b[0m\n\u001b[1;32m      2\u001b[0m \u001b[0mword_splitter\u001b[0m\u001b[0;34m.\u001b[0m\u001b[0mprepare_data\u001b[0m\u001b[0;34m(\u001b[0m\u001b[0;34m)\u001b[0m\u001b[0;34m\u001b[0m\u001b[0;34m\u001b[0m\u001b[0m\n\u001b[1;32m      3\u001b[0m \u001b[0;31m# word_splitter.train()\u001b[0m\u001b[0;34m\u001b[0m\u001b[0;34m\u001b[0m\u001b[0;34m\u001b[0m\u001b[0m\n\u001b[0;32m----> 4\u001b[0;31m \u001b[0mword_splitter\u001b[0m\u001b[0;34m.\u001b[0m\u001b[0mpredict_on_test\u001b[0m\u001b[0;34m(\u001b[0m\u001b[0;34m)\u001b[0m\u001b[0;34m\u001b[0m\u001b[0;34m\u001b[0m\u001b[0m\n\u001b[0m",
      "\u001b[0;32m~/Documents/personal/word-splitter/train.py\u001b[0m in \u001b[0;36mpredict_on_test\u001b[0;34m(self)\u001b[0m\n\u001b[1;32m    168\u001b[0m                 \u001b[0mdecoded_words\u001b[0m\u001b[0;34m+=\u001b[0m\u001b[0mtext\u001b[0m\u001b[0;34m[\u001b[0m\u001b[0mi\u001b[0m\u001b[0;34m]\u001b[0m\u001b[0;34m+\u001b[0m\u001b[0;34m' '\u001b[0m\u001b[0;34m\u001b[0m\u001b[0;34m\u001b[0m\u001b[0m\n\u001b[1;32m    169\u001b[0m             \u001b[0;32melse\u001b[0m\u001b[0;34m:\u001b[0m\u001b[0;34m\u001b[0m\u001b[0;34m\u001b[0m\u001b[0m\n\u001b[0;32m--> 170\u001b[0;31m                 \u001b[0mdecoded_words\u001b[0m\u001b[0;34m+=\u001b[0m\u001b[0mtext\u001b[0m\u001b[0;34m[\u001b[0m\u001b[0mi\u001b[0m\u001b[0;34m]\u001b[0m\u001b[0;34m\u001b[0m\u001b[0;34m\u001b[0m\u001b[0m\n\u001b[0m\u001b[1;32m    171\u001b[0m         \u001b[0;32mreturn\u001b[0m \u001b[0mdecoded_words\u001b[0m\u001b[0;34m\u001b[0m\u001b[0;34m\u001b[0m\u001b[0m\n\u001b[1;32m    172\u001b[0m \u001b[0;34m\u001b[0m\u001b[0m\n",
      "\u001b[0;31mAttributeError\u001b[0m: 'WordSplitter' object has no attribute 'encoder_input_data_test'"
     ]
    }
   ],
   "source": [
    "\n",
    "word_splitter = WordSplitter(input_texts_train, target_texts_train, target_words_train, input_texts_test, target_texts_test, target_words_test)\n",
    "word_splitter.prepare_data()\n",
    "# word_splitter.train()\n",
    "word_splitter.predict_on_test()"
   ]
  },
  {
   "cell_type": "code",
   "execution_count": null,
   "metadata": {},
   "outputs": [],
   "source": []
  },
  {
   "cell_type": "code",
   "execution_count": null,
   "metadata": {},
   "outputs": [],
   "source": []
  }
 ],
 "metadata": {
  "kernelspec": {
   "display_name": "Python 3",
   "language": "python",
   "name": "python3"
  },
  "language_info": {
   "codemirror_mode": {
    "name": "ipython",
    "version": 3
   },
   "file_extension": ".py",
   "mimetype": "text/x-python",
   "name": "python",
   "nbconvert_exporter": "python",
   "pygments_lexer": "ipython3",
   "version": "3.7.4"
  }
 },
 "nbformat": 4,
 "nbformat_minor": 2
}
